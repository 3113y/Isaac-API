{
 "cells": [
  {
   "cell_type": "code",
   "execution_count": 42,
   "metadata": {},
   "outputs": [],
   "source": [
    "import re # Regex\n",
    "import codecs # utf8 file-gen\n",
    "import glob # file system itterator\n",
    "files = glob.glob(\"D:\\\\Workspace/IsaacDocs/docs/\" + '/*.md', recursive=False)\n",
    "\n",
    "for filename in files:\n",
    "    file = codecs.open(filename, \"r\", \"utf-8\")\n",
    "    list_of_lines = file.readlines()\n",
    "\n",
    "    counter = 0\n",
    "    for line in list_of_lines:\n",
    "        if line.startswith(\"### \") and line.find(\"aria-label\"):\n",
    "            loc = re.search(r\"[a-z][A-Z]\\w+\", line)\n",
    "            while(loc):\n",
    "                line = line[:loc.span()[0]+1] + \"·\" + line[loc.span()[0]+1:]\n",
    "                loc = re.search(r\"[a-z][A-Z]\\w+\", line)\n",
    "            list_of_lines[counter] = line\n",
    "        counter += 1\n",
    "    file = codecs.open(filename, \"w\", \"utf-8\")\n",
    "    file.writelines(list_of_lines)\n",
    "    file.close()"
   ]
  },
  {
   "cell_type": "code",
   "execution_count": null,
   "metadata": {},
   "outputs": [],
   "source": []
  }
 ],
 "metadata": {
  "kernelspec": {
   "display_name": "Python 3",
   "language": "python",
   "name": "python3"
  },
  "language_info": {
   "codemirror_mode": {
    "name": "ipython",
    "version": 3
   },
   "file_extension": ".py",
   "mimetype": "text/x-python",
   "name": "python",
   "nbconvert_exporter": "python",
   "pygments_lexer": "ipython3",
   "version": "3.8.8"
  }
 },
 "nbformat": 4,
 "nbformat_minor": 4
}
