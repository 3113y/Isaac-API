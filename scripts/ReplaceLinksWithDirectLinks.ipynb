{
 "cells": [
  {
   "cell_type": "code",
   "execution_count": 10,
   "id": "82d0882f",
   "metadata": {},
   "outputs": [],
   "source": [
    "import re # Regex\n",
    "import codecs # utf8 file-gen\n",
    "import glob # file system itterator\n",
    "\n",
    "files = glob.glob(\"D:\\\\Workspace/IsaacDocs/docs/\" + '/*.md', recursive=False)\n",
    "\n",
    "for filename in files:\n",
    "    file = codecs.open(filename, \"r\", \"utf-8\")\n",
    "    list_of_lines = file.readlines()\n",
    "\n",
    "    counter = 0\n",
    "    for line in list_of_lines:\n",
    "        if \"](../rep/\" in line:\n",
    "            loc = re.search(r\"\\]\\(\\.\\./rep/(enums/)*\\w+\", line)\n",
    "            while(loc):\n",
    "                line = line[:loc.span()[1]].replace(\"../rep/\",\"\") + \".html\"+ line[loc.span()[1]:].strip(\"/\")\n",
    "                loc = re.search(r\"\\]\\(\\.\\./rep/(enums/)*\\w+\", line)\n",
    "            list_of_lines[counter] = line.replace(\"enums/\",\"../enums/\")\n",
    "        counter += 1\n",
    "    file = codecs.open(filename, \"w\", \"utf-8\")\n",
    "    file.writelines(list_of_lines)\n",
    "    file.close()"
   ]
  },
  {
   "cell_type": "code",
   "execution_count": null,
   "id": "272ef476",
   "metadata": {},
   "outputs": [],
   "source": []
  },
  {
   "cell_type": "code",
   "execution_count": null,
   "id": "010f895f",
   "metadata": {},
   "outputs": [],
   "source": []
  }
 ],
 "metadata": {
  "kernelspec": {
   "display_name": "Python 3",
   "language": "python",
   "name": "python3"
  },
  "language_info": {
   "codemirror_mode": {
    "name": "ipython",
    "version": 3
   },
   "file_extension": ".py",
   "mimetype": "text/x-python",
   "name": "python",
   "nbconvert_exporter": "python",
   "pygments_lexer": "ipython3",
   "version": "3.8.8"
  }
 },
 "nbformat": 4,
 "nbformat_minor": 5
}
